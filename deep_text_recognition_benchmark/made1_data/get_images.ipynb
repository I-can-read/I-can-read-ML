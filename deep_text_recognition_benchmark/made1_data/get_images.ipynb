{
 "cells": [
  {
   "cell_type": "code",
   "execution_count": 1,
   "id": "73af9a2a",
   "metadata": {},
   "outputs": [],
   "source": [
    "# get_images.py\n",
    "import shutil\n",
    "\n",
    "data_root_path = '../../kor_dataset/finetuning_data/made1/images/'\n",
    "save_root_path = './images/'\n",
    "\n",
    "# copy images from dataset directory to current directory\n",
    "shutil.copytree(data_root_path, save_root_path)\n",
    "\n",
    "# separate dataset : train, validation, test\n",
    "obj_list = ['train', 'test', 'validation']\n",
    "for obj in obj_list:\n",
    "    with open(f'gt_{obj}.txt', 'r') as f:\n",
    "        lines = f.readlines()\n",
    "        for line in lines:\n",
    "            file_path = line.split('.png')[0]\n",
    "            file_name = file_path.split('/')[1] + '.png'\n",
    "            res = shutil.move(save_root_path+file_name, f'./{obj}/')"
   ]
  },
  {
   "cell_type": "code",
   "execution_count": null,
   "id": "a195a82f",
   "metadata": {},
   "outputs": [],
   "source": []
  }
 ],
 "metadata": {
  "kernelspec": {
   "display_name": "Python 3 (ipykernel)",
   "language": "python",
   "name": "python3"
  },
  "language_info": {
   "codemirror_mode": {
    "name": "ipython",
    "version": 3
   },
   "file_extension": ".py",
   "mimetype": "text/x-python",
   "name": "python",
   "nbconvert_exporter": "python",
   "pygments_lexer": "ipython3",
   "version": "3.11.2"
  }
 },
 "nbformat": 4,
 "nbformat_minor": 5
}
